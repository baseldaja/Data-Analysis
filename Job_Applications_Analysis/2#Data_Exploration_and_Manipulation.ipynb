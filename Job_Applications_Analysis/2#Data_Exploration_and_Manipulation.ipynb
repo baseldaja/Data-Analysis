{
 "cells": [
  {
   "cell_type": "code",
   "execution_count": 1,
   "metadata": {},
   "outputs": [],
   "source": [
    "# Import needed libraries and tools\n",
    "import pandas as pd"
   ]
  },
  {
   "cell_type": "code",
   "execution_count": 2,
   "metadata": {},
   "outputs": [],
   "source": [
    "apps=pd.read_csv(\"Data_CSV/Clean_Data.csv\") # Create dataframe and read CSV"
   ]
  },
  {
   "cell_type": "code",
   "execution_count": 3,
   "metadata": {},
   "outputs": [
    {
     "data": {
      "text/plain": [
       "array(['2', '15', '9', '10', '13', '>20', '11', '5', '7', '8', '4', '3',\n",
       "       '6', '14', '12', '16', '19', '17', '1', '18', '20', '<1', '0'],\n",
       "      dtype=object)"
      ]
     },
     "execution_count": 3,
     "metadata": {},
     "output_type": "execute_result"
    }
   ],
   "source": [
    "apps['experience'].unique() # print unique values in experience feature"
   ]
  },
  {
   "cell_type": "code",
   "execution_count": 4,
   "metadata": {},
   "outputs": [],
   "source": [
    "# Removing special characters(<,>) and replace it with an appropriate value\n",
    "apps['experience'] = apps['experience'].apply(lambda x: 21 if x == '>20' else (0 if x == '<1' else int(x))) "
   ]
  },
  {
   "cell_type": "markdown",
   "metadata": {},
   "source": [
    "<span style=\"font-size: 20px; color: lightgreen;\">Notes: Convert experience feature to numeric.</span>"
   ]
  },
  {
   "cell_type": "code",
   "execution_count": 5,
   "metadata": {},
   "outputs": [],
   "source": [
    "# Drop target feature to save memory space\n",
    "target_filter=apps[apps['target'] == 1]\n",
    "target_filter=target_filter.drop('target', axis=1)"
   ]
  },
  {
   "cell_type": "markdown",
   "metadata": {},
   "source": [
    "<span style=\"font-size: 20px; color: lightgreen;\">Notes: Create a new data frame for target enrollees.</span>"
   ]
  },
  {
   "cell_type": "code",
   "execution_count": 6,
   "metadata": {},
   "outputs": [],
   "source": [
    "# Filter enrollees with more than 10 years of experience\n",
    "exp10_filter = target_filter[target_filter['experience'] > 10]"
   ]
  },
  {
   "cell_type": "markdown",
   "metadata": {},
   "source": [
    "<span style=\"font-size: 20px; color: lightgreen;\">Notes: Create a new data frame from the target data frame for enrollees with 10+ experience.</span>"
   ]
  },
  {
   "cell_type": "code",
   "execution_count": 7,
   "metadata": {},
   "outputs": [],
   "source": [
    "exp10_filter.loc[:, 'relevent_experience'] = exp10_filter['relevent_experience'].replace({\n",
    "    'No relevent experience': 'No',\n",
    "    'Has relevent experience': 'Yes'\n",
    "})"
   ]
  },
  {
   "cell_type": "markdown",
   "metadata": {},
   "source": [
    "<span style=\"font-size: 20px; color: lightgreen;\">Notes: Shorten the relevant experience values to 'Yes' or 'No'.</span>"
   ]
  },
  {
   "cell_type": "code",
   "execution_count": 8,
   "metadata": {},
   "outputs": [],
   "source": [
    "exp10_filter = exp10_filter[exp10_filter['relevent_experience'] == \"Yes\"]"
   ]
  },
  {
   "cell_type": "markdown",
   "metadata": {},
   "source": [
    "<span style=\"font-size: 20px; color: lightgreen;\">Notes: Filter the 10+ experience enrollees only with relevant experience.</span>"
   ]
  },
  {
   "cell_type": "code",
   "execution_count": 9,
   "metadata": {},
   "outputs": [],
   "source": [
    "exp10_filter = exp10_filter.drop(columns=['relevent_experience'])"
   ]
  },
  {
   "cell_type": "code",
   "execution_count": 10,
   "metadata": {},
   "outputs": [
    {
     "data": {
      "text/html": [
       "<div>\n",
       "<style scoped>\n",
       "    .dataframe tbody tr th:only-of-type {\n",
       "        vertical-align: middle;\n",
       "    }\n",
       "\n",
       "    .dataframe tbody tr th {\n",
       "        vertical-align: top;\n",
       "    }\n",
       "\n",
       "    .dataframe thead th {\n",
       "        text-align: right;\n",
       "    }\n",
       "</style>\n",
       "<table border=\"1\" class=\"dataframe\">\n",
       "  <thead>\n",
       "    <tr style=\"text-align: right;\">\n",
       "      <th></th>\n",
       "      <th>enrollee_id</th>\n",
       "      <th>city</th>\n",
       "      <th>city_development_index</th>\n",
       "      <th>gender</th>\n",
       "      <th>enrolled_university</th>\n",
       "      <th>education_level</th>\n",
       "      <th>major_discipline</th>\n",
       "      <th>experience</th>\n",
       "      <th>company_size</th>\n",
       "      <th>company_type</th>\n",
       "      <th>last_new_job</th>\n",
       "      <th>training_hours</th>\n",
       "    </tr>\n",
       "  </thead>\n",
       "  <tbody>\n",
       "  </tbody>\n",
       "</table>\n",
       "</div>"
      ],
      "text/plain": [
       "Empty DataFrame\n",
       "Columns: [enrollee_id, city, city_development_index, gender, enrolled_university, education_level, major_discipline, experience, company_size, company_type, last_new_job, training_hours]\n",
       "Index: []"
      ]
     },
     "execution_count": 10,
     "metadata": {},
     "output_type": "execute_result"
    }
   ],
   "source": [
    "duplicated_id=exp10_filter.duplicated(subset='enrollee_id')\n",
    "exp10_filter[duplicated_id]"
   ]
  },
  {
   "cell_type": "markdown",
   "metadata": {},
   "source": [
    "<span style=\"font-size: 20px; color: lightgreen;\">Notes: No Duplicates.</span>"
   ]
  },
  {
   "cell_type": "code",
   "execution_count": 11,
   "metadata": {},
   "outputs": [
    {
     "name": "stdout",
     "output_type": "stream",
     "text": [
      "count     1023\n",
      "unique       8\n",
      "top          0\n",
      "freq       508\n",
      "Name: company_size, dtype: object\n"
     ]
    }
   ],
   "source": [
    "company_size_summary = exp10_filter['company_size'].describe()\n",
    "print(company_size_summary)"
   ]
  },
  {
   "cell_type": "code",
   "execution_count": 12,
   "metadata": {},
   "outputs": [
    {
     "name": "stdout",
     "output_type": "stream",
     "text": [
      "Unique Enrollments: ['no_enrollment' 'Part time course' 'Full time course']\n",
      "Unique Education Levels: ['Graduate' 'Phd' 'Masters' 'Not provided' 'High School' 'Primary School']\n"
     ]
    }
   ],
   "source": [
    "# View the unique values of the enrolled_university and education_level\n",
    "unique_enrollments = exp10_filter['enrolled_university'].unique()\n",
    "unique_education = exp10_filter['education_level'].unique()\n",
    "\n",
    "print(\"Unique Enrollments:\", unique_enrollments)\n",
    "print(\"Unique Education Levels:\", unique_education)\n"
   ]
  },
  {
   "cell_type": "code",
   "execution_count": 13,
   "metadata": {},
   "outputs": [],
   "source": [
    "exp10_filter['education_level'] = exp10_filter['education_level'].replace('Graduate', 'Bachelor')"
   ]
  },
  {
   "cell_type": "markdown",
   "metadata": {},
   "source": [
    "<span style=\"font-size: 20px; color: lightgreen;\">Notes: Replacing \"Graduate\" with \"Bachelor\".</span>"
   ]
  },
  {
   "cell_type": "code",
   "execution_count": 14,
   "metadata": {},
   "outputs": [],
   "source": [
    "exp10_filter = exp10_filter[exp10_filter['enrolled_university'] == 'no_enrollment']\n",
    "exp10_filter = exp10_filter.drop(columns='enrolled_university')"
   ]
  },
  {
   "cell_type": "code",
   "execution_count": 15,
   "metadata": {},
   "outputs": [],
   "source": [
    "# Use a lambda function to convert \"last_new_job\" values to integers\n",
    "exp10_filter['last_new_job'] = exp10_filter['last_new_job'].apply(lambda x: 0 if x == 'never' else (5 if x == '>4' else int(x)))"
   ]
  },
  {
   "cell_type": "markdown",
   "metadata": {},
   "source": [
    "<span style=\"font-size: 20px; color: lightgreen;\">Notes: Convert last new job feature to numeric.</span>"
   ]
  },
  {
   "cell_type": "code",
   "execution_count": 16,
   "metadata": {},
   "outputs": [],
   "source": [
    "# Drop enrollees with 'High School' education level\n",
    "exp10_filter = exp10_filter[exp10_filter['education_level'] != 'High School']"
   ]
  },
  {
   "cell_type": "markdown",
   "metadata": {},
   "source": [
    "<span style=\"font-size: 20px; color: lightgreen;\">Notes: Exclude high school from data.</span>"
   ]
  },
  {
   "cell_type": "code",
   "execution_count": 17,
   "metadata": {},
   "outputs": [],
   "source": [
    "# Filter rows with company_size '0'\n",
    "zero_size_rows = exp10_filter[exp10_filter['company_size'] == '0']\n",
    "\n",
    "# Create a new DataFrame from the filtered rows\n",
    "df_with_zero_size = pd.DataFrame(zero_size_rows)\n",
    "\n",
    "# Remove enrollees with 0 size company \n",
    "exp10_filter = exp10_filter[exp10_filter['company_size'] != '0']\n",
    "\n",
    "# Save this new DataFrame to a CSV file or any other desired format\n",
    "df_with_zero_size.to_csv('Data_CSV/zero_companies.csv', index=False) \n"
   ]
  },
  {
   "cell_type": "markdown",
   "metadata": {},
   "source": [
    "<span style=\"font-size: 20px; color: lightgreen;\">Notes: Save enrollees with no company in a new csv.</span>"
   ]
  },
  {
   "cell_type": "code",
   "execution_count": 18,
   "metadata": {},
   "outputs": [],
   "source": [
    "# Save the filtered DataFrame (without rows with company_size '0') to a CSV file\n",
    "exp10_filter.to_csv('Data_CSV/Explored_data.csv', index=False)  "
   ]
  },
  {
   "cell_type": "markdown",
   "metadata": {},
   "source": [
    "<span style=\"font-size: 20px; color: lightgreen;\">Notes: save enrollees with company in a new csv.</span>"
   ]
  },
  {
   "cell_type": "code",
   "execution_count": 19,
   "metadata": {},
   "outputs": [
    {
     "data": {
      "text/html": [
       "<div>\n",
       "<style scoped>\n",
       "    .dataframe tbody tr th:only-of-type {\n",
       "        vertical-align: middle;\n",
       "    }\n",
       "\n",
       "    .dataframe tbody tr th {\n",
       "        vertical-align: top;\n",
       "    }\n",
       "\n",
       "    .dataframe thead th {\n",
       "        text-align: right;\n",
       "    }\n",
       "</style>\n",
       "<table border=\"1\" class=\"dataframe\">\n",
       "  <thead>\n",
       "    <tr style=\"text-align: right;\">\n",
       "      <th></th>\n",
       "      <th>enrollee_id</th>\n",
       "      <th>city</th>\n",
       "      <th>city_development_index</th>\n",
       "      <th>gender</th>\n",
       "      <th>education_level</th>\n",
       "      <th>major_discipline</th>\n",
       "      <th>experience</th>\n",
       "      <th>company_size</th>\n",
       "      <th>company_type</th>\n",
       "      <th>last_new_job</th>\n",
       "      <th>training_hours</th>\n",
       "    </tr>\n",
       "  </thead>\n",
       "  <tbody>\n",
       "    <tr>\n",
       "      <th>7</th>\n",
       "      <td>10</td>\n",
       "      <td>city_114</td>\n",
       "      <td>0.926</td>\n",
       "      <td>Female</td>\n",
       "      <td>Bachelor</td>\n",
       "      <td>STEM</td>\n",
       "      <td>15</td>\n",
       "      <td>&lt;10</td>\n",
       "      <td>Funded Startup</td>\n",
       "      <td>1</td>\n",
       "      <td>53</td>\n",
       "    </tr>\n",
       "    <tr>\n",
       "      <th>27</th>\n",
       "      <td>50</td>\n",
       "      <td>city_103</td>\n",
       "      <td>0.920</td>\n",
       "      <td>Male</td>\n",
       "      <td>Phd</td>\n",
       "      <td>STEM</td>\n",
       "      <td>21</td>\n",
       "      <td>10000+</td>\n",
       "      <td>Pvt Ltd</td>\n",
       "      <td>1</td>\n",
       "      <td>79</td>\n",
       "    </tr>\n",
       "    <tr>\n",
       "      <th>65</th>\n",
       "      <td>124</td>\n",
       "      <td>city_103</td>\n",
       "      <td>0.920</td>\n",
       "      <td>Male</td>\n",
       "      <td>Masters</td>\n",
       "      <td>STEM</td>\n",
       "      <td>21</td>\n",
       "      <td>10000+</td>\n",
       "      <td>Pvt Ltd</td>\n",
       "      <td>2</td>\n",
       "      <td>34</td>\n",
       "    </tr>\n",
       "    <tr>\n",
       "      <th>97</th>\n",
       "      <td>200</td>\n",
       "      <td>city_103</td>\n",
       "      <td>0.920</td>\n",
       "      <td>Male</td>\n",
       "      <td>Bachelor</td>\n",
       "      <td>Humanities</td>\n",
       "      <td>21</td>\n",
       "      <td>100-500</td>\n",
       "      <td>Pvt Ltd</td>\n",
       "      <td>3</td>\n",
       "      <td>11</td>\n",
       "    </tr>\n",
       "    <tr>\n",
       "      <th>100</th>\n",
       "      <td>208</td>\n",
       "      <td>city_16</td>\n",
       "      <td>0.910</td>\n",
       "      <td>Male</td>\n",
       "      <td>Bachelor</td>\n",
       "      <td>STEM</td>\n",
       "      <td>21</td>\n",
       "      <td>10000+</td>\n",
       "      <td>Pvt Ltd</td>\n",
       "      <td>5</td>\n",
       "      <td>58</td>\n",
       "    </tr>\n",
       "  </tbody>\n",
       "</table>\n",
       "</div>"
      ],
      "text/plain": [
       "     enrollee_id      city  city_development_index  gender education_level  \\\n",
       "7             10  city_114                   0.926  Female        Bachelor   \n",
       "27            50  city_103                   0.920    Male             Phd   \n",
       "65           124  city_103                   0.920    Male         Masters   \n",
       "97           200  city_103                   0.920    Male        Bachelor   \n",
       "100          208   city_16                   0.910    Male        Bachelor   \n",
       "\n",
       "    major_discipline  experience company_size    company_type  last_new_job  \\\n",
       "7               STEM          15          <10  Funded Startup             1   \n",
       "27              STEM          21       10000+         Pvt Ltd             1   \n",
       "65              STEM          21       10000+         Pvt Ltd             2   \n",
       "97        Humanities          21      100-500         Pvt Ltd             3   \n",
       "100             STEM          21       10000+         Pvt Ltd             5   \n",
       "\n",
       "     training_hours  \n",
       "7                53  \n",
       "27               79  \n",
       "65               34  \n",
       "97               11  \n",
       "100              58  "
      ]
     },
     "execution_count": 19,
     "metadata": {},
     "output_type": "execute_result"
    }
   ],
   "source": [
    "exp10_filter.head(5)"
   ]
  },
  {
   "cell_type": "code",
   "execution_count": 20,
   "metadata": {},
   "outputs": [
    {
     "data": {
      "text/html": [
       "<div>\n",
       "<style scoped>\n",
       "    .dataframe tbody tr th:only-of-type {\n",
       "        vertical-align: middle;\n",
       "    }\n",
       "\n",
       "    .dataframe tbody tr th {\n",
       "        vertical-align: top;\n",
       "    }\n",
       "\n",
       "    .dataframe thead th {\n",
       "        text-align: right;\n",
       "    }\n",
       "</style>\n",
       "<table border=\"1\" class=\"dataframe\">\n",
       "  <thead>\n",
       "    <tr style=\"text-align: right;\">\n",
       "      <th></th>\n",
       "      <th>enrollee_id</th>\n",
       "      <th>city</th>\n",
       "      <th>city_development_index</th>\n",
       "      <th>gender</th>\n",
       "      <th>education_level</th>\n",
       "      <th>major_discipline</th>\n",
       "      <th>experience</th>\n",
       "      <th>company_size</th>\n",
       "      <th>company_type</th>\n",
       "      <th>last_new_job</th>\n",
       "      <th>training_hours</th>\n",
       "    </tr>\n",
       "  </thead>\n",
       "  <tbody>\n",
       "    <tr>\n",
       "      <th>17340</th>\n",
       "      <td>32757</td>\n",
       "      <td>city_160</td>\n",
       "      <td>0.920</td>\n",
       "      <td>Male</td>\n",
       "      <td>Bachelor</td>\n",
       "      <td>STEM</td>\n",
       "      <td>21</td>\n",
       "      <td>1000-4999</td>\n",
       "      <td>Pvt Ltd</td>\n",
       "      <td>4</td>\n",
       "      <td>28</td>\n",
       "    </tr>\n",
       "    <tr>\n",
       "      <th>17356</th>\n",
       "      <td>32782</td>\n",
       "      <td>city_21</td>\n",
       "      <td>0.624</td>\n",
       "      <td>Male</td>\n",
       "      <td>Masters</td>\n",
       "      <td>STEM</td>\n",
       "      <td>17</td>\n",
       "      <td>10000+</td>\n",
       "      <td>Other</td>\n",
       "      <td>1</td>\n",
       "      <td>26</td>\n",
       "    </tr>\n",
       "    <tr>\n",
       "      <th>17409</th>\n",
       "      <td>32869</td>\n",
       "      <td>city_103</td>\n",
       "      <td>0.920</td>\n",
       "      <td>Male</td>\n",
       "      <td>Bachelor</td>\n",
       "      <td>STEM</td>\n",
       "      <td>11</td>\n",
       "      <td>1000-4999</td>\n",
       "      <td>Public Sector</td>\n",
       "      <td>5</td>\n",
       "      <td>92</td>\n",
       "    </tr>\n",
       "    <tr>\n",
       "      <th>17494</th>\n",
       "      <td>33055</td>\n",
       "      <td>city_165</td>\n",
       "      <td>0.903</td>\n",
       "      <td>Male</td>\n",
       "      <td>Bachelor</td>\n",
       "      <td>STEM</td>\n",
       "      <td>14</td>\n",
       "      <td>10000+</td>\n",
       "      <td>Pvt Ltd</td>\n",
       "      <td>3</td>\n",
       "      <td>40</td>\n",
       "    </tr>\n",
       "    <tr>\n",
       "      <th>17613</th>\n",
       "      <td>33254</td>\n",
       "      <td>city_160</td>\n",
       "      <td>0.920</td>\n",
       "      <td>Female</td>\n",
       "      <td>Masters</td>\n",
       "      <td>STEM</td>\n",
       "      <td>21</td>\n",
       "      <td>50-99</td>\n",
       "      <td>Pvt Ltd</td>\n",
       "      <td>5</td>\n",
       "      <td>120</td>\n",
       "    </tr>\n",
       "  </tbody>\n",
       "</table>\n",
       "</div>"
      ],
      "text/plain": [
       "       enrollee_id      city  city_development_index  gender education_level  \\\n",
       "17340        32757  city_160                   0.920    Male        Bachelor   \n",
       "17356        32782   city_21                   0.624    Male         Masters   \n",
       "17409        32869  city_103                   0.920    Male        Bachelor   \n",
       "17494        33055  city_165                   0.903    Male        Bachelor   \n",
       "17613        33254  city_160                   0.920  Female         Masters   \n",
       "\n",
       "      major_discipline  experience company_size   company_type  last_new_job  \\\n",
       "17340             STEM          21    1000-4999        Pvt Ltd             4   \n",
       "17356             STEM          17       10000+          Other             1   \n",
       "17409             STEM          11    1000-4999  Public Sector             5   \n",
       "17494             STEM          14       10000+        Pvt Ltd             3   \n",
       "17613             STEM          21        50-99        Pvt Ltd             5   \n",
       "\n",
       "       training_hours  \n",
       "17340              28  \n",
       "17356              26  \n",
       "17409              92  \n",
       "17494              40  \n",
       "17613             120  "
      ]
     },
     "execution_count": 20,
     "metadata": {},
     "output_type": "execute_result"
    }
   ],
   "source": [
    "exp10_filter.tail(5)"
   ]
  },
  {
   "cell_type": "markdown",
   "metadata": {},
   "source": [
    "<span style=\"font-size: 30px; color: #FF5050; font-weight:Bold\">Result: Good looking data ready for analysis.</span>"
   ]
  }
 ],
 "metadata": {
  "kernelspec": {
   "display_name": "HR Analytics - Job Change of Data Scientists",
   "language": "python",
   "name": "python3"
  },
  "language_info": {
   "codemirror_mode": {
    "name": "ipython",
    "version": 3
   },
   "file_extension": ".py",
   "mimetype": "text/x-python",
   "name": "python",
   "nbconvert_exporter": "python",
   "pygments_lexer": "ipython3",
   "version": "3.10.0"
  },
  "orig_nbformat": 4
 },
 "nbformat": 4,
 "nbformat_minor": 2
}
